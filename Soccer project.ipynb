{
 "cells": [
  {
   "cell_type": "markdown",
   "metadata": {},
   "source": [
    "# Project Data Analysis - Investigation of European Soccer Database\n",
    "## Table of Contents\n",
    "<ul>\n",
    "<li><a href=\"#intro\">Introduction</a></li>\n",
    "<li><a href=\"#wrangling\">Data Wrangling</a></li>\n",
    "<li><a href=\"#eda\">Exploratory Data Analysis</a></li>\n",
    "<li><a href=\"#conclusions\">Conclusions</a></li>\n",
    "</ul>"
   ]
  },
  {
   "cell_type": "markdown",
   "metadata": {},
   "source": [
    "<a id='intro'></a>\n",
    "## Introduction\n",
    "The following questions are investigated in this notebook:  \n",
    "1. Does ball possession correlate with the goal difference (goals scored - goals conceded) and the shot difference (shots taken - shots allowed) in a soccer match?\n",
    "2. Who are the players with the best goal conversion rate (goals scored / total shots taken) over the seasons?\n",
    "3. Is there a pattern in the distribution of the numbers of goals scored in soccer matches?\n",
    "\n",
    "The analysis is based on the comprehensive European soccer database of the user Hugo Mathien on Kaggle:\n",
    "https://www.kaggle.com/hugomathien/soccer\n"
   ]
  },
  {
   "cell_type": "code",
   "execution_count": 103,
   "metadata": {},
   "outputs": [],
   "source": [
    "# besides pandas, numpy and matplotlib we need the library sqlalchemy for importing\n",
    "# the database from sqlite as well as xml.etree.ElementTree for dealing with xml data\n",
    "# hidden in several columns of the table 'Match'\n",
    "import pandas as pd\n",
    "import numpy as np\n",
    "import matplotlib.pyplot as plt\n",
    "import sqlalchemy as sqla\n",
    "import xml.etree.ElementTree as ET\n",
    "import seaborn as sns\n",
    "from scipy.stats import poisson\n",
    "%matplotlib inline\n",
    "plt.style.use('fivethirtyeight')"
   ]
  },
  {
   "cell_type": "markdown",
   "metadata": {},
   "source": [
    "> **Comment:** Besides Pandas, Numpy and Matplotlib we need the library SQLAlchemy for importing\n",
    "the database from sqlite as well as xml.etree.ElementTree for dealing with XML data\n",
    "hidden in several columns of the table 'Match'"
   ]
  },
  {
   "cell_type": "markdown",
   "metadata": {},
   "source": [
    "<a id='wrangling'></a>\n",
    "## Data Wrangling\n",
    "\n",
    "**Load data**:   \n",
    "In order to address the 3 questions posed in the introduction above we will try to gain data frames with certain properties and columns  \n",
    "in the course of the data wrangling process:\n",
    "1. Data frame `df_matches` with columns to calculate the correlation of ball possession and goal difference / shot difference.\n",
    "2. Data frame `df_players` with additional columns 'total shots taken' and 'goals scored' to calculate the corresponding goal conversion rate.\n",
    "3. Data frame `df_matches` should already come with all necessary information.\n",
    "\n",
    "### General Properties\n",
    "In a first approach we extract already filtered raw data from the sqlite database.  \n",
    "The query for match data ignores all records not having valid information in the  \n",
    "columns 'possession', 'goal', 'shoton', 'shotoff' which are relevant for the study at hand."
   ]
  },
  {
   "cell_type": "code",
   "execution_count": 10,
   "metadata": {},
   "outputs": [
    {
     "data": {
      "text/html": [
       "<div>\n",
       "<style scoped>\n",
       "    .dataframe tbody tr th:only-of-type {\n",
       "        vertical-align: middle;\n",
       "    }\n",
       "\n",
       "    .dataframe tbody tr th {\n",
       "        vertical-align: top;\n",
       "    }\n",
       "\n",
       "    .dataframe thead th {\n",
       "        text-align: right;\n",
       "    }\n",
       "</style>\n",
       "<table border=\"1\" class=\"dataframe\">\n",
       "  <thead>\n",
       "    <tr style=\"text-align: right;\">\n",
       "      <th></th>\n",
       "      <th>match_id</th>\n",
       "      <th>date</th>\n",
       "      <th>name</th>\n",
       "      <th>season</th>\n",
       "      <th>possession</th>\n",
       "      <th>team_long_name</th>\n",
       "      <th>team_long_name</th>\n",
       "      <th>home_team_api_id</th>\n",
       "      <th>away_team_api_id</th>\n",
       "      <th>home_team_goal</th>\n",
       "      <th>away_team_goal</th>\n",
       "      <th>shoton</th>\n",
       "      <th>shotoff</th>\n",
       "      <th>goal</th>\n",
       "    </tr>\n",
       "  </thead>\n",
       "  <tbody>\n",
       "    <tr>\n",
       "      <td>1153</td>\n",
       "      <td>2887</td>\n",
       "      <td>2011-10-29 00:00:00</td>\n",
       "      <td>England Premier League</td>\n",
       "      <td>2011/2012</td>\n",
       "      <td>&lt;possession&gt;&lt;value&gt;&lt;comment&gt;37&lt;/comment&gt;&lt;event...</td>\n",
       "      <td>West Bromwich Albion</td>\n",
       "      <td>Liverpool</td>\n",
       "      <td>8659</td>\n",
       "      <td>8650</td>\n",
       "      <td>0</td>\n",
       "      <td>2</td>\n",
       "      <td>&lt;shoton&gt;&lt;value&gt;&lt;stats&gt;&lt;blocked&gt;1&lt;/blocked&gt;&lt;/st...</td>\n",
       "      <td>&lt;shotoff&gt;&lt;value&gt;&lt;stats&gt;&lt;shotoff&gt;1&lt;/shotoff&gt;&lt;/s...</td>\n",
       "      <td>&lt;goal&gt;&lt;value&gt;&lt;comment&gt;p&lt;/comment&gt;&lt;stats&gt;&lt;penal...</td>\n",
       "    </tr>\n",
       "    <tr>\n",
       "      <td>4040</td>\n",
       "      <td>8504</td>\n",
       "      <td>2011-01-14 00:00:00</td>\n",
       "      <td>Germany 1. Bundesliga</td>\n",
       "      <td>2010/2011</td>\n",
       "      <td>&lt;possession&gt;&lt;value&gt;&lt;comment&gt;52&lt;/comment&gt;&lt;event...</td>\n",
       "      <td>Bayer 04 Leverkusen</td>\n",
       "      <td>Borussia Dortmund</td>\n",
       "      <td>8178</td>\n",
       "      <td>9789</td>\n",
       "      <td>1</td>\n",
       "      <td>3</td>\n",
       "      <td>&lt;shoton&gt;&lt;value&gt;&lt;stats&gt;&lt;shoton&gt;1&lt;/shoton&gt;&lt;/stat...</td>\n",
       "      <td>&lt;shotoff&gt;&lt;value&gt;&lt;event_incident_typefk&gt;591&lt;/ev...</td>\n",
       "      <td>&lt;goal&gt;&lt;value&gt;&lt;comment&gt;n&lt;/comment&gt;&lt;stats&gt;&lt;goals...</td>\n",
       "    </tr>\n",
       "    <tr>\n",
       "      <td>5144</td>\n",
       "      <td>10822</td>\n",
       "      <td>2010-02-28 00:00:00</td>\n",
       "      <td>Italy Serie A</td>\n",
       "      <td>2009/2010</td>\n",
       "      <td>&lt;possession&gt;&lt;value&gt;&lt;comment&gt;45&lt;/comment&gt;&lt;event...</td>\n",
       "      <td>Udinese</td>\n",
       "      <td>Inter</td>\n",
       "      <td>8600</td>\n",
       "      <td>8636</td>\n",
       "      <td>2</td>\n",
       "      <td>3</td>\n",
       "      <td>&lt;shoton&gt;&lt;value&gt;&lt;stats&gt;&lt;shoton&gt;1&lt;/shoton&gt;&lt;/stat...</td>\n",
       "      <td>&lt;shotoff&gt;&lt;value&gt;&lt;stats&gt;&lt;shotoff&gt;1&lt;/shotoff&gt;&lt;/s...</td>\n",
       "      <td>&lt;goal&gt;&lt;value&gt;&lt;comment&gt;n&lt;/comment&gt;&lt;stats&gt;&lt;goals...</td>\n",
       "    </tr>\n",
       "    <tr>\n",
       "      <td>6381</td>\n",
       "      <td>13203</td>\n",
       "      <td>2016-05-08 00:00:00</td>\n",
       "      <td>Italy Serie A</td>\n",
       "      <td>2015/2016</td>\n",
       "      <td>&lt;possession&gt;&lt;value&gt;&lt;comment&gt;68&lt;/comment&gt;&lt;stats...</td>\n",
       "      <td>Atalanta</td>\n",
       "      <td>Udinese</td>\n",
       "      <td>8524</td>\n",
       "      <td>8600</td>\n",
       "      <td>1</td>\n",
       "      <td>1</td>\n",
       "      <td>&lt;shoton&gt;&lt;value&gt;&lt;stats&gt;&lt;blocked&gt;1&lt;/blocked&gt;&lt;/st...</td>\n",
       "      <td>&lt;shotoff&gt;&lt;value&gt;&lt;stats&gt;&lt;shotoff&gt;1&lt;/shotoff&gt;&lt;/s...</td>\n",
       "      <td>&lt;goal&gt;&lt;value&gt;&lt;comment&gt;n&lt;/comment&gt;&lt;stats&gt;&lt;goals...</td>\n",
       "    </tr>\n",
       "    <tr>\n",
       "      <td>6734</td>\n",
       "      <td>15685</td>\n",
       "      <td>2015-09-13 00:00:00</td>\n",
       "      <td>Netherlands Eredivisie</td>\n",
       "      <td>2015/2016</td>\n",
       "      <td>&lt;possession&gt;&lt;value&gt;&lt;comment&gt;33&lt;/comment&gt;&lt;stats...</td>\n",
       "      <td>FC Utrecht</td>\n",
       "      <td>Vitesse</td>\n",
       "      <td>9908</td>\n",
       "      <td>8277</td>\n",
       "      <td>2</td>\n",
       "      <td>1</td>\n",
       "      <td>&lt;shoton&gt;&lt;value&gt;&lt;stats&gt;&lt;blocked&gt;1&lt;/blocked&gt;&lt;/st...</td>\n",
       "      <td>&lt;shotoff&gt;&lt;value&gt;&lt;stats&gt;&lt;shotoff&gt;1&lt;/shotoff&gt;&lt;/s...</td>\n",
       "      <td>&lt;goal&gt;&lt;value&gt;&lt;comment&gt;n&lt;/comment&gt;&lt;stats&gt;&lt;goals...</td>\n",
       "    </tr>\n",
       "  </tbody>\n",
       "</table>\n",
       "</div>"
      ],
      "text/plain": [
       "      match_id                 date                    name     season  \\\n",
       "1153      2887  2011-10-29 00:00:00  England Premier League  2011/2012   \n",
       "4040      8504  2011-01-14 00:00:00   Germany 1. Bundesliga  2010/2011   \n",
       "5144     10822  2010-02-28 00:00:00           Italy Serie A  2009/2010   \n",
       "6381     13203  2016-05-08 00:00:00           Italy Serie A  2015/2016   \n",
       "6734     15685  2015-09-13 00:00:00  Netherlands Eredivisie  2015/2016   \n",
       "\n",
       "                                             possession        team_long_name  \\\n",
       "1153  <possession><value><comment>37</comment><event...  West Bromwich Albion   \n",
       "4040  <possession><value><comment>52</comment><event...   Bayer 04 Leverkusen   \n",
       "5144  <possession><value><comment>45</comment><event...               Udinese   \n",
       "6381  <possession><value><comment>68</comment><stats...              Atalanta   \n",
       "6734  <possession><value><comment>33</comment><stats...            FC Utrecht   \n",
       "\n",
       "         team_long_name  home_team_api_id  away_team_api_id  home_team_goal  \\\n",
       "1153          Liverpool              8659              8650               0   \n",
       "4040  Borussia Dortmund              8178              9789               1   \n",
       "5144              Inter              8600              8636               2   \n",
       "6381            Udinese              8524              8600               1   \n",
       "6734            Vitesse              9908              8277               2   \n",
       "\n",
       "      away_team_goal                                             shoton  \\\n",
       "1153               2  <shoton><value><stats><blocked>1</blocked></st...   \n",
       "4040               3  <shoton><value><stats><shoton>1</shoton></stat...   \n",
       "5144               3  <shoton><value><stats><shoton>1</shoton></stat...   \n",
       "6381               1  <shoton><value><stats><blocked>1</blocked></st...   \n",
       "6734               1  <shoton><value><stats><blocked>1</blocked></st...   \n",
       "\n",
       "                                                shotoff  \\\n",
       "1153  <shotoff><value><stats><shotoff>1</shotoff></s...   \n",
       "4040  <shotoff><value><event_incident_typefk>591</ev...   \n",
       "5144  <shotoff><value><stats><shotoff>1</shotoff></s...   \n",
       "6381  <shotoff><value><stats><shotoff>1</shotoff></s...   \n",
       "6734  <shotoff><value><stats><shotoff>1</shotoff></s...   \n",
       "\n",
       "                                                   goal  \n",
       "1153  <goal><value><comment>p</comment><stats><penal...  \n",
       "4040  <goal><value><comment>n</comment><stats><goals...  \n",
       "5144  <goal><value><comment>n</comment><stats><goals...  \n",
       "6381  <goal><value><comment>n</comment><stats><goals...  \n",
       "6734  <goal><value><comment>n</comment><stats><goals...  "
      ]
     },
     "execution_count": 10,
     "metadata": {},
     "output_type": "execute_result"
    }
   ],
   "source": [
    "# build sql query to extract match data - ignore data without valid possession, shot and goal data\n",
    "query_match = \"\"\"\n",
    "select match.id as match_id, date, league.name, season, possession, home_team.Team_long_name, away_team.Team_long_name, home_team_api_id,away_team_api_id, home_team_goal, away_team_goal, shoton, shotoff, goal\n",
    "from Match inner join league on match.league_id = league.id\n",
    "inner join team as home_team on home_team.team_api_id = match.home_team_api_id\n",
    "inner join team as away_team on away_team.team_api_id = match.away_team_api_id\n",
    "where possession is  not null and possession <> '<possession />' and goal is not null and shoton is not null and shotoff is not null;\n",
    " \"\"\"\n",
    "query_player = \"\"\"\n",
    "select player_api_id, player_name from player;\n",
    " \"\"\"\n",
    "db = sqla.create_engine('sqlite:///data/database.sqlite')\n",
    "df_match_raw = pd.read_sql(query_match, db)\n",
    "df_player_raw = pd.read_sql(query_player,db)\n",
    "# dump 5 sample records\n",
    "df_match_raw.sample(5)"
   ]
  },
  {
   "cell_type": "code",
   "execution_count": 11,
   "metadata": {},
   "outputs": [
    {
     "data": {
      "text/plain": [
       "match_id             int64\n",
       "date                object\n",
       "name                object\n",
       "season              object\n",
       "possession          object\n",
       "team_long_name      object\n",
       "team_long_name      object\n",
       "home_team_api_id     int64\n",
       "away_team_api_id     int64\n",
       "home_team_goal       int64\n",
       "away_team_goal       int64\n",
       "shoton              object\n",
       "shotoff             object\n",
       "goal                object\n",
       "dtype: object"
      ]
     },
     "execution_count": 11,
     "metadata": {},
     "output_type": "execute_result"
    }
   ],
   "source": [
    "df_match_raw.dtypes"
   ]
  },
  {
   "cell_type": "markdown",
   "metadata": {},
   "source": [
    "> **Comment:** In the sample records of `df_match_raw` we can see that data on shots, goals and possession are in xml format which we dig into later on in the\n",
    "data cleaning section. The date is in string format and will be casted to pandas datetime type later."
   ]
  },
  {
   "cell_type": "code",
   "execution_count": 12,
   "metadata": {},
   "outputs": [
    {
     "data": {
      "text/html": [
       "<div>\n",
       "<style scoped>\n",
       "    .dataframe tbody tr th:only-of-type {\n",
       "        vertical-align: middle;\n",
       "    }\n",
       "\n",
       "    .dataframe tbody tr th {\n",
       "        vertical-align: top;\n",
       "    }\n",
       "\n",
       "    .dataframe thead th {\n",
       "        text-align: right;\n",
       "    }\n",
       "</style>\n",
       "<table border=\"1\" class=\"dataframe\">\n",
       "  <thead>\n",
       "    <tr style=\"text-align: right;\">\n",
       "      <th></th>\n",
       "      <th>player_api_id</th>\n",
       "      <th>player_name</th>\n",
       "    </tr>\n",
       "  </thead>\n",
       "  <tbody>\n",
       "    <tr>\n",
       "      <td>3441</td>\n",
       "      <td>102725</td>\n",
       "      <td>Fouad Idabdelhay</td>\n",
       "    </tr>\n",
       "    <tr>\n",
       "      <td>5245</td>\n",
       "      <td>150739</td>\n",
       "      <td>Jordi Alba</td>\n",
       "    </tr>\n",
       "    <tr>\n",
       "      <td>9620</td>\n",
       "      <td>33930</td>\n",
       "      <td>Seid Khiter</td>\n",
       "    </tr>\n",
       "    <tr>\n",
       "      <td>8416</td>\n",
       "      <td>362665</td>\n",
       "      <td>Paulinho</td>\n",
       "    </tr>\n",
       "    <tr>\n",
       "      <td>10715</td>\n",
       "      <td>500939</td>\n",
       "      <td>Wallyson Mallmann</td>\n",
       "    </tr>\n",
       "  </tbody>\n",
       "</table>\n",
       "</div>"
      ],
      "text/plain": [
       "       player_api_id        player_name\n",
       "3441          102725   Fouad Idabdelhay\n",
       "5245          150739         Jordi Alba\n",
       "9620           33930        Seid Khiter\n",
       "8416          362665           Paulinho\n",
       "10715         500939  Wallyson Mallmann"
      ]
     },
     "execution_count": 12,
     "metadata": {},
     "output_type": "execute_result"
    }
   ],
   "source": [
    "df_player_raw.sample(5)"
   ]
  },
  {
   "cell_type": "code",
   "execution_count": 13,
   "metadata": {},
   "outputs": [
    {
     "data": {
      "text/plain": [
       "player_api_id     int64\n",
       "player_name      object\n",
       "dtype: object"
      ]
     },
     "execution_count": 13,
     "metadata": {},
     "output_type": "execute_result"
    }
   ],
   "source": [
    "df_player_raw.dtypes"
   ]
  },
  {
   "cell_type": "markdown",
   "metadata": {},
   "source": [
    "> **Comment:** Not much to do about `df_player_raw` at the moment."
   ]
  },
  {
   "cell_type": "markdown",
   "metadata": {},
   "source": [
    "### Data Cleaning\n",
    "First defining some helper functions, for further details see also the comments in the definitions of the code.\n",
    "\n",
    "- `def flatten(list_of_list)` - little helper function to deal with lists of lists which we will face occasionally\n",
    "- `def build_shotlists_from_xml(xmlstring, matchid)` - function to extract the xml data from the column 'possession'.\n",
    "- `def build_possession_row_from_xml(xmlstring, matchid)`- function to extract the xml data from the columns 'shoton', 'shotoff' and 'goals'.\n",
    "\n",
    "\n"
   ]
  },
  {
   "cell_type": "code",
   "execution_count": 14,
   "metadata": {},
   "outputs": [],
   "source": [
    "# Helper function flatten, flattening of lists. occassionally we have to deal with lists of lists\n",
    "#which have to be flattened to be used in data frames.\n",
    "def flatten(list_of_list):\n",
    "    flattened_list = [y for x in list_of_list for y in x]\n",
    "    return flattened_list\n",
    "\n",
    "# Helper function to extract xml data from the column possession of data frame df_match\n",
    "def build_possession_row_from_xml(xmlstring, matchid):\n",
    "    root = ET.fromstring(xmlstring)\n",
    "    # we are interested in the last entry only, usually the possession values after 90 minutes\n",
    "    tags = root.findall(\"value[last()]\")\n",
    "\n",
    "    rows = []\n",
    "    #there should be only one tag found, but leaving loop for possible later changes\n",
    "    for node in tags:\n",
    "        elapsed = node.findtext(\"elapsed\") if node is not None else None\n",
    "        homepos = node.findtext(\"homepos\") if node is not None else None\n",
    "        \n",
    "        awaypos = node.findtext(\"awaypos\") if node is not None else None\n",
    "        rows.append({\"match_id\": matchid, \"elapsed\": elapsed, \"homepos\": homepos, \n",
    "                     \"awaypos\": awaypos})\n",
    "    if rows.count == 0:\n",
    "        return  None\n",
    "    else:\n",
    "        #return value is a list of dictionaries\n",
    "        return rows\n",
    "\n",
    "# Helper function to extract xml data from the columns shoton,shotoff and goals of df_match\n",
    "def build_shotlists_from_xml(xmlstring, matchid):\n",
    "    root = ET.fromstring(xmlstring)\n",
    "    rows = []\n",
    "    for node in root: \n",
    "        elapsed = node.findtext(\"elapsed\") if node is not None else None\n",
    "        team = node.findtext(\"team\") if node is not None else None\n",
    "        type_s = node.findtext(\"type\") if node is not None else None\n",
    "        player = node.findtext(\"player1\") if node is not None else None\n",
    "        subtype = node.findtext('subtype') if node is not None else None\n",
    "        goalno = node.findtext('stats/goal') if node is not None else None\n",
    "        shotonno = node.findtext('stats/shoton') if node is not None else None\n",
    "        shotoffno = node.findtext('stats/shotoff') if node is not None else None\n",
    "        \n",
    "        rows.append({\"match_id\": matchid, \"elapsed\": elapsed, \"team\": team, \"player\": player, \"subtype\" : subtype,\n",
    "                     \"type\": type_s, 'goal_no' : goalno, 'shoton_no' : shotonno, 'shotoff_no' : shotoffno, 'shotcnt': 1})\n",
    "    if rows.count == 0:\n",
    "        return  None\n",
    "    else:\n",
    "        return rows"
   ]
  },
  {
   "cell_type": "markdown",
   "metadata": {},
   "source": [
    "> **create additional data frames**  \n",
    "Creating some extra data frames from xml content of some columns of the `df_match` data frame with the code of next cells.  \n",
    "These data frames are needed later for further analysis.\n",
    "\n",
    "#### Data wrangling for  `df_match_raw`\n",
    "Tasks:\n",
    "- cast 'date' to pandas datetime\n",
    "- create new data frame `df_pos` from xml possession data\n",
    "- create new data frame `df_shots`from xml shotson, shotsoff and goal data."
   ]
  },
  {
   "cell_type": "code",
   "execution_count": 15,
   "metadata": {},
   "outputs": [
    {
     "data": {
      "text/plain": [
       "match_id                     int64\n",
       "date                datetime64[ns]\n",
       "name                        object\n",
       "season                      object\n",
       "possession                  object\n",
       "team_long_name              object\n",
       "team_long_name              object\n",
       "home_team_api_id             int64\n",
       "away_team_api_id             int64\n",
       "home_team_goal               int64\n",
       "away_team_goal               int64\n",
       "shoton                      object\n",
       "shotoff                     object\n",
       "goal                        object\n",
       "dtype: object"
      ]
     },
     "execution_count": 15,
     "metadata": {},
     "output_type": "execute_result"
    }
   ],
   "source": [
    "# converting date to date time\n",
    "df_match_raw['date'] = pd.to_datetime(df_match_raw.date)\n",
    "# dump types to check result:\n",
    "df_match_raw.dtypes"
   ]
  },
  {
   "cell_type": "code",
   "execution_count": 16,
   "metadata": {},
   "outputs": [
    {
     "data": {
      "text/html": [
       "<div>\n",
       "<style scoped>\n",
       "    .dataframe tbody tr th:only-of-type {\n",
       "        vertical-align: middle;\n",
       "    }\n",
       "\n",
       "    .dataframe tbody tr th {\n",
       "        vertical-align: top;\n",
       "    }\n",
       "\n",
       "    .dataframe thead th {\n",
       "        text-align: right;\n",
       "    }\n",
       "</style>\n",
       "<table border=\"1\" class=\"dataframe\">\n",
       "  <thead>\n",
       "    <tr style=\"text-align: right;\">\n",
       "      <th></th>\n",
       "      <th>match_id</th>\n",
       "      <th>elapsed</th>\n",
       "      <th>homepos</th>\n",
       "      <th>awaypos</th>\n",
       "    </tr>\n",
       "  </thead>\n",
       "  <tbody>\n",
       "    <tr>\n",
       "      <td>7849</td>\n",
       "      <td>23988</td>\n",
       "      <td>90</td>\n",
       "      <td>55</td>\n",
       "      <td>45</td>\n",
       "    </tr>\n",
       "    <tr>\n",
       "      <td>5365</td>\n",
       "      <td>11214</td>\n",
       "      <td>90</td>\n",
       "      <td>57</td>\n",
       "      <td>43</td>\n",
       "    </tr>\n",
       "    <tr>\n",
       "      <td>3883</td>\n",
       "      <td>8160</td>\n",
       "      <td>68</td>\n",
       "      <td>52</td>\n",
       "      <td>48</td>\n",
       "    </tr>\n",
       "  </tbody>\n",
       "</table>\n",
       "</div>"
      ],
      "text/plain": [
       "      match_id elapsed homepos awaypos\n",
       "7849     23988      90      55      45\n",
       "5365     11214      90      57      43\n",
       "3883      8160      68      52      48"
      ]
     },
     "execution_count": 16,
     "metadata": {},
     "output_type": "execute_result"
    }
   ],
   "source": [
    "# parse xml data of column possession with helper funcion\n",
    "# use apply to extract the xml data and store result in rows_pos\n",
    "rows_pos = df_match_raw.apply(lambda x : build_possession_row_from_xml(x['possession'], x['match_id']), axis=1)\n",
    "# flatten the results and create new data frame df_pos\n",
    "df_pos = pd.DataFrame(flatten(rows_pos.values.tolist()))\n",
    "# dump samples\n",
    "df_pos.sample(3)"
   ]
  },
  {
   "cell_type": "markdown",
   "metadata": {},
   "source": [
    "do some checks on the new data frame `df_pos`:"
   ]
  },
  {
   "cell_type": "code",
   "execution_count": 17,
   "metadata": {},
   "outputs": [
    {
     "data": {
      "text/plain": [
       "match_id     int64\n",
       "elapsed     object\n",
       "homepos     object\n",
       "awaypos     object\n",
       "dtype: object"
      ]
     },
     "execution_count": 17,
     "metadata": {},
     "output_type": "execute_result"
    }
   ],
   "source": [
    "df_pos.dtypes"
   ]
  },
  {
   "cell_type": "code",
   "execution_count": 18,
   "metadata": {},
   "outputs": [
    {
     "data": {
      "text/plain": [
       "match_id    0\n",
       "elapsed     0\n",
       "homepos     2\n",
       "awaypos     2\n",
       "dtype: int64"
      ]
     },
     "execution_count": 18,
     "metadata": {},
     "output_type": "execute_result"
    }
   ],
   "source": [
    "df_pos.isna().sum()"
   ]
  },
  {
   "cell_type": "markdown",
   "metadata": {},
   "source": [
    "\n",
    "> **Comment:** 3 columns of new data frame `df_pos` are all strings because of the previous xml parsing.  \n",
    "So, casting columns to ints. *homepos, awaypos* both have NaNs in certain rows. We have to drop affected rows first.\n",
    "\n"
   ]
  },
  {
   "cell_type": "code",
   "execution_count": 19,
   "metadata": {},
   "outputs": [
    {
     "data": {
      "text/plain": [
       "match_id    int64\n",
       "elapsed     int64\n",
       "homepos     int64\n",
       "awaypos     int64\n",
       "dtype: object"
      ]
     },
     "execution_count": 19,
     "metadata": {},
     "output_type": "execute_result"
    }
   ],
   "source": [
    "# get rid of rows with NaNs in homepos or awaypos\n",
    "df_pos.dropna(subset=['homepos','awaypos'], inplace=True)\n",
    "# set all columns to int64 and check with dtype\n",
    "df_pos = df_pos.astype('int64')\n",
    "# check result:\n",
    "df_pos.dtypes"
   ]
  },
  {
   "cell_type": "markdown",
   "metadata": {},
   "source": [
    "#### Create data frame `df_shots` from shotson, shotsoff and goal data\n",
    "\n",
    "This is a similar process to the build-up of `df_pos` above. We extract the xml\n",
    "data from 3 columns this time. Since the structure of the relevant columns 'goal',\n",
    "'shoton' and 'shotoff' are sufficiently similar we can treat them in the same way.\n",
    "In the end we will have a `df_shots` data frame as a union of the data from all\n",
    "three columns."
   ]
  },
  {
   "cell_type": "code",
   "execution_count": 20,
   "metadata": {},
   "outputs": [
    {
     "data": {
      "text/html": [
       "<div>\n",
       "<style scoped>\n",
       "    .dataframe tbody tr th:only-of-type {\n",
       "        vertical-align: middle;\n",
       "    }\n",
       "\n",
       "    .dataframe tbody tr th {\n",
       "        vertical-align: top;\n",
       "    }\n",
       "\n",
       "    .dataframe thead th {\n",
       "        text-align: right;\n",
       "    }\n",
       "</style>\n",
       "<table border=\"1\" class=\"dataframe\">\n",
       "  <thead>\n",
       "    <tr style=\"text-align: right;\">\n",
       "      <th></th>\n",
       "      <th>match_id</th>\n",
       "      <th>elapsed</th>\n",
       "      <th>team</th>\n",
       "      <th>player</th>\n",
       "      <th>subtype</th>\n",
       "      <th>type</th>\n",
       "      <th>goal_no</th>\n",
       "      <th>shoton_no</th>\n",
       "      <th>shotoff_no</th>\n",
       "      <th>shotcnt</th>\n",
       "    </tr>\n",
       "  </thead>\n",
       "  <tbody>\n",
       "    <tr>\n",
       "      <td>0</td>\n",
       "      <td>1729</td>\n",
       "      <td>4</td>\n",
       "      <td>10260</td>\n",
       "      <td>30373</td>\n",
       "      <td>distance</td>\n",
       "      <td>shotoff</td>\n",
       "      <td>None</td>\n",
       "      <td>None</td>\n",
       "      <td>1</td>\n",
       "      <td>1</td>\n",
       "    </tr>\n",
       "    <tr>\n",
       "      <td>1</td>\n",
       "      <td>1729</td>\n",
       "      <td>5</td>\n",
       "      <td>10261</td>\n",
       "      <td>37799</td>\n",
       "      <td>distance</td>\n",
       "      <td>shotoff</td>\n",
       "      <td>None</td>\n",
       "      <td>None</td>\n",
       "      <td>1</td>\n",
       "      <td>1</td>\n",
       "    </tr>\n",
       "    <tr>\n",
       "      <td>2</td>\n",
       "      <td>1729</td>\n",
       "      <td>22</td>\n",
       "      <td>10261</td>\n",
       "      <td>24228</td>\n",
       "      <td>deflected</td>\n",
       "      <td>shotoff</td>\n",
       "      <td>None</td>\n",
       "      <td>None</td>\n",
       "      <td>1</td>\n",
       "      <td>1</td>\n",
       "    </tr>\n",
       "    <tr>\n",
       "      <td>3</td>\n",
       "      <td>1729</td>\n",
       "      <td>31</td>\n",
       "      <td>10261</td>\n",
       "      <td>38807</td>\n",
       "      <td>distance</td>\n",
       "      <td>shotoff</td>\n",
       "      <td>None</td>\n",
       "      <td>None</td>\n",
       "      <td>1</td>\n",
       "      <td>1</td>\n",
       "    </tr>\n",
       "    <tr>\n",
       "      <td>4</td>\n",
       "      <td>1729</td>\n",
       "      <td>34</td>\n",
       "      <td>10260</td>\n",
       "      <td>24154</td>\n",
       "      <td>header</td>\n",
       "      <td>shotoff</td>\n",
       "      <td>None</td>\n",
       "      <td>None</td>\n",
       "      <td>1</td>\n",
       "      <td>1</td>\n",
       "    </tr>\n",
       "  </tbody>\n",
       "</table>\n",
       "</div>"
      ],
      "text/plain": [
       "   match_id elapsed   team player    subtype     type goal_no shoton_no  \\\n",
       "0      1729       4  10260  30373   distance  shotoff    None      None   \n",
       "1      1729       5  10261  37799   distance  shotoff    None      None   \n",
       "2      1729      22  10261  24228  deflected  shotoff    None      None   \n",
       "3      1729      31  10261  38807   distance  shotoff    None      None   \n",
       "4      1729      34  10260  24154     header  shotoff    None      None   \n",
       "\n",
       "  shotoff_no  shotcnt  \n",
       "0          1        1  \n",
       "1          1        1  \n",
       "2          1        1  \n",
       "3          1        1  \n",
       "4          1        1  "
      ]
     },
     "execution_count": 20,
     "metadata": {},
     "output_type": "execute_result"
    }
   ],
   "source": [
    "# extract shoton data from xml \n",
    "rows_on = df_match_raw.apply(lambda x : build_shotlists_from_xml(x['shoton'], x['match_id']), axis=1)\n",
    "df_shoton = pd.DataFrame(flatten(rows_on.values.tolist()))\n",
    "#extract shotoff data from xml\n",
    "rows_off = df_match_raw.apply(lambda x : build_shotlists_from_xml(x['shotoff'], x['match_id']), axis=1)\n",
    "df_shotoff = pd.DataFrame(flatten(rows_off.values.tolist()))\n",
    "# extract goal data from xml:\n",
    "rows_goals = df_match_raw.apply(lambda x : build_shotlists_from_xml(x['goal'], x['match_id']), axis=1)\n",
    "df_goal = pd.DataFrame(flatten(rows_goals.values.tolist()))\n",
    "# now build a union of the 3 temporary data frames df_shotoff, df_shoton, df_goal\n",
    "df_shots = pd.concat([df_shotoff, df_shoton, df_goal])\n",
    "df_shots.head()"
   ]
  },
  {
   "cell_type": "code",
   "execution_count": 21,
   "metadata": {},
   "outputs": [
    {
     "data": {
      "text/plain": [
       "match_id       int64\n",
       "elapsed       object\n",
       "team          object\n",
       "player        object\n",
       "subtype       object\n",
       "type          object\n",
       "goal_no       object\n",
       "shoton_no     object\n",
       "shotoff_no    object\n",
       "shotcnt        int64\n",
       "dtype: object"
      ]
     },
     "execution_count": 21,
     "metadata": {},
     "output_type": "execute_result"
    }
   ],
   "source": [
    "df_shots.dtypes"
   ]
  },
  {
   "cell_type": "code",
   "execution_count": 22,
   "metadata": {},
   "outputs": [
    {
     "data": {
      "text/plain": [
       "match_id        int64\n",
       "elapsed        object\n",
       "team          float64\n",
       "player        float64\n",
       "subtype        object\n",
       "type           object\n",
       "goal_no        object\n",
       "shoton_no      object\n",
       "shotoff_no     object\n",
       "shotcnt         int64\n",
       "dtype: object"
      ]
     },
     "execution_count": 22,
     "metadata": {},
     "output_type": "execute_result"
    }
   ],
   "source": [
    "# most columns are string due to the xml parsing process,\n",
    "# but we need numeric values in several columns:\n",
    "df_shots['player'] = pd.to_numeric(df_shots['player'], errors='coerce')\n",
    "df_shots['team'] = pd.to_numeric(df_shots['team'],  errors='coerce')\n",
    "df_shots.dtypes"
   ]
  },
  {
   "cell_type": "markdown",
   "metadata": {},
   "source": [
    "#### Next step: Create `df_matches`\n",
    "Now we are going to build the table `df_matches` in order to address the raised questions 1 and 3. First we are going to merge `df_pos` with df `df_match_raw` to add possession data to matches."
   ]
  },
  {
   "cell_type": "code",
   "execution_count": 23,
   "metadata": {},
   "outputs": [
    {
     "data": {
      "text/html": [
       "<div>\n",
       "<style scoped>\n",
       "    .dataframe tbody tr th:only-of-type {\n",
       "        vertical-align: middle;\n",
       "    }\n",
       "\n",
       "    .dataframe tbody tr th {\n",
       "        vertical-align: top;\n",
       "    }\n",
       "\n",
       "    .dataframe thead th {\n",
       "        text-align: right;\n",
       "    }\n",
       "</style>\n",
       "<table border=\"1\" class=\"dataframe\">\n",
       "  <thead>\n",
       "    <tr style=\"text-align: right;\">\n",
       "      <th></th>\n",
       "      <th>match_id</th>\n",
       "      <th>date</th>\n",
       "      <th>name</th>\n",
       "      <th>season</th>\n",
       "      <th>team_long_name</th>\n",
       "      <th>team_long_name</th>\n",
       "      <th>home_team_api_id</th>\n",
       "      <th>away_team_api_id</th>\n",
       "      <th>home_team_goal</th>\n",
       "      <th>away_team_goal</th>\n",
       "      <th>elapsed</th>\n",
       "      <th>homepos</th>\n",
       "      <th>awaypos</th>\n",
       "    </tr>\n",
       "  </thead>\n",
       "  <tbody>\n",
       "    <tr>\n",
       "      <td>8049</td>\n",
       "      <td>24190</td>\n",
       "      <td>2015-10-31</td>\n",
       "      <td>Spain LIGA BBVA</td>\n",
       "      <td>2015/2016</td>\n",
       "      <td>Villarreal CF</td>\n",
       "      <td>Sevilla FC</td>\n",
       "      <td>10205</td>\n",
       "      <td>8302</td>\n",
       "      <td>2</td>\n",
       "      <td>1</td>\n",
       "      <td>90</td>\n",
       "      <td>50</td>\n",
       "      <td>50</td>\n",
       "    </tr>\n",
       "    <tr>\n",
       "      <td>7016</td>\n",
       "      <td>21998</td>\n",
       "      <td>2010-01-24</td>\n",
       "      <td>Spain LIGA BBVA</td>\n",
       "      <td>2009/2010</td>\n",
       "      <td>Getafe CF</td>\n",
       "      <td>Atlético Madrid</td>\n",
       "      <td>8305</td>\n",
       "      <td>9906</td>\n",
       "      <td>1</td>\n",
       "      <td>0</td>\n",
       "      <td>90</td>\n",
       "      <td>55</td>\n",
       "      <td>45</td>\n",
       "    </tr>\n",
       "    <tr>\n",
       "      <td>5629</td>\n",
       "      <td>11638</td>\n",
       "      <td>2012-04-25</td>\n",
       "      <td>Italy Serie A</td>\n",
       "      <td>2011/2012</td>\n",
       "      <td>Roma</td>\n",
       "      <td>Fiorentina</td>\n",
       "      <td>8686</td>\n",
       "      <td>8535</td>\n",
       "      <td>1</td>\n",
       "      <td>2</td>\n",
       "      <td>90</td>\n",
       "      <td>65</td>\n",
       "      <td>35</td>\n",
       "    </tr>\n",
       "  </tbody>\n",
       "</table>\n",
       "</div>"
      ],
      "text/plain": [
       "      match_id       date             name     season team_long_name  \\\n",
       "8049     24190 2015-10-31  Spain LIGA BBVA  2015/2016  Villarreal CF   \n",
       "7016     21998 2010-01-24  Spain LIGA BBVA  2009/2010      Getafe CF   \n",
       "5629     11638 2012-04-25    Italy Serie A  2011/2012           Roma   \n",
       "\n",
       "       team_long_name  home_team_api_id  away_team_api_id  home_team_goal  \\\n",
       "8049       Sevilla FC             10205              8302               2   \n",
       "7016  Atlético Madrid              8305              9906               1   \n",
       "5629       Fiorentina              8686              8535               1   \n",
       "\n",
       "      away_team_goal  elapsed  homepos  awaypos  \n",
       "8049               1       90       50       50  \n",
       "7016               0       90       55       45  \n",
       "5629               2       90       65       35  "
      ]
     },
     "execution_count": 23,
     "metadata": {},
     "output_type": "execute_result"
    }
   ],
   "source": [
    "# merging df_pos with df_match_raw\n",
    "df_matches = pd.merge(df_match_raw, df_pos, on='match_id')\n",
    "# get rid of columns possession, shoton, shotoff and goal, we don't need them anymore because we already extracted their xml data\n",
    "df_matches.drop(['possession', 'shoton', 'shotoff', 'goal'], axis=1, inplace=True)\n",
    "df_matches.sample(3)"
   ]
  },
  {
   "cell_type": "markdown",
   "metadata": {},
   "source": [
    "> now adding a column with the goal difference"
   ]
  },
  {
   "cell_type": "code",
   "execution_count": 24,
   "metadata": {},
   "outputs": [],
   "source": [
    "df_matches['goaldiff'] = df_matches['home_team_goal'] - df_matches['away_team_goal']"
   ]
  },
  {
   "cell_type": "markdown",
   "metadata": {},
   "source": [
    "> now we want to add two columns to `df_matches` with shots taken by home and away team.  \n",
    "To this end\n",
    "we will create a groupby from the shots table:"
   ]
  },
  {
   "cell_type": "code",
   "execution_count": 25,
   "metadata": {},
   "outputs": [
    {
     "data": {
      "text/html": [
       "<div>\n",
       "<style scoped>\n",
       "    .dataframe tbody tr th:only-of-type {\n",
       "        vertical-align: middle;\n",
       "    }\n",
       "\n",
       "    .dataframe tbody tr th {\n",
       "        vertical-align: top;\n",
       "    }\n",
       "\n",
       "    .dataframe thead th {\n",
       "        text-align: right;\n",
       "    }\n",
       "</style>\n",
       "<table border=\"1\" class=\"dataframe\">\n",
       "  <thead>\n",
       "    <tr style=\"text-align: right;\">\n",
       "      <th></th>\n",
       "      <th>match_id</th>\n",
       "      <th>team</th>\n",
       "      <th>shotcnt</th>\n",
       "    </tr>\n",
       "  </thead>\n",
       "  <tbody>\n",
       "    <tr>\n",
       "      <td>0</td>\n",
       "      <td>1729</td>\n",
       "      <td>10260.0</td>\n",
       "      <td>22</td>\n",
       "    </tr>\n",
       "    <tr>\n",
       "      <td>1</td>\n",
       "      <td>1729</td>\n",
       "      <td>10261.0</td>\n",
       "      <td>11</td>\n",
       "    </tr>\n",
       "    <tr>\n",
       "      <td>2</td>\n",
       "      <td>1730</td>\n",
       "      <td>8659.0</td>\n",
       "      <td>5</td>\n",
       "    </tr>\n",
       "    <tr>\n",
       "      <td>3</td>\n",
       "      <td>1730</td>\n",
       "      <td>9825.0</td>\n",
       "      <td>26</td>\n",
       "    </tr>\n",
       "    <tr>\n",
       "      <td>4</td>\n",
       "      <td>1731</td>\n",
       "      <td>8472.0</td>\n",
       "      <td>7</td>\n",
       "    </tr>\n",
       "  </tbody>\n",
       "</table>\n",
       "</div>"
      ],
      "text/plain": [
       "   match_id     team  shotcnt\n",
       "0      1729  10260.0       22\n",
       "1      1729  10261.0       11\n",
       "2      1730   8659.0        5\n",
       "3      1730   9825.0       26\n",
       "4      1731   8472.0        7"
      ]
     },
     "execution_count": 25,
     "metadata": {},
     "output_type": "execute_result"
    }
   ],
   "source": [
    "shots_group = df_shots.groupby(['match_id', 'team'],group_keys=False)['shotcnt'].sum().reset_index()\n",
    "shots_group.head(5)"
   ]
  },
  {
   "cell_type": "markdown",
   "metadata": {},
   "source": [
    "> let's now merge the `shots_group` to `df_matches` to obtain the desired two new columns:"
   ]
  },
  {
   "cell_type": "code",
   "execution_count": 26,
   "metadata": {},
   "outputs": [
    {
     "data": {
      "text/html": [
       "<div>\n",
       "<style scoped>\n",
       "    .dataframe tbody tr th:only-of-type {\n",
       "        vertical-align: middle;\n",
       "    }\n",
       "\n",
       "    .dataframe tbody tr th {\n",
       "        vertical-align: top;\n",
       "    }\n",
       "\n",
       "    .dataframe thead th {\n",
       "        text-align: right;\n",
       "    }\n",
       "</style>\n",
       "<table border=\"1\" class=\"dataframe\">\n",
       "  <thead>\n",
       "    <tr style=\"text-align: right;\">\n",
       "      <th></th>\n",
       "      <th>match_id</th>\n",
       "      <th>date</th>\n",
       "      <th>name</th>\n",
       "      <th>season</th>\n",
       "      <th>team_long_name</th>\n",
       "      <th>team_long_name</th>\n",
       "      <th>home_team_api_id</th>\n",
       "      <th>away_team_api_id</th>\n",
       "      <th>home_team_goal</th>\n",
       "      <th>away_team_goal</th>\n",
       "      <th>elapsed</th>\n",
       "      <th>homepos</th>\n",
       "      <th>awaypos</th>\n",
       "      <th>goaldiff</th>\n",
       "      <th>team_x</th>\n",
       "      <th>shotcnt_x</th>\n",
       "      <th>team_y</th>\n",
       "      <th>shotcnt_y</th>\n",
       "    </tr>\n",
       "  </thead>\n",
       "  <tbody>\n",
       "    <tr>\n",
       "      <td>0</td>\n",
       "      <td>1729</td>\n",
       "      <td>2008-08-17</td>\n",
       "      <td>England Premier League</td>\n",
       "      <td>2008/2009</td>\n",
       "      <td>Manchester United</td>\n",
       "      <td>Newcastle United</td>\n",
       "      <td>10260</td>\n",
       "      <td>10261</td>\n",
       "      <td>1</td>\n",
       "      <td>1</td>\n",
       "      <td>90</td>\n",
       "      <td>55</td>\n",
       "      <td>45</td>\n",
       "      <td>0</td>\n",
       "      <td>10260.0</td>\n",
       "      <td>22</td>\n",
       "      <td>10261.0</td>\n",
       "      <td>11</td>\n",
       "    </tr>\n",
       "    <tr>\n",
       "      <td>1</td>\n",
       "      <td>1730</td>\n",
       "      <td>2008-08-16</td>\n",
       "      <td>England Premier League</td>\n",
       "      <td>2008/2009</td>\n",
       "      <td>Arsenal</td>\n",
       "      <td>West Bromwich Albion</td>\n",
       "      <td>9825</td>\n",
       "      <td>8659</td>\n",
       "      <td>1</td>\n",
       "      <td>0</td>\n",
       "      <td>90</td>\n",
       "      <td>66</td>\n",
       "      <td>34</td>\n",
       "      <td>1</td>\n",
       "      <td>9825.0</td>\n",
       "      <td>26</td>\n",
       "      <td>8659.0</td>\n",
       "      <td>5</td>\n",
       "    </tr>\n",
       "    <tr>\n",
       "      <td>2</td>\n",
       "      <td>1731</td>\n",
       "      <td>2008-08-16</td>\n",
       "      <td>England Premier League</td>\n",
       "      <td>2008/2009</td>\n",
       "      <td>Sunderland</td>\n",
       "      <td>Liverpool</td>\n",
       "      <td>8472</td>\n",
       "      <td>8650</td>\n",
       "      <td>0</td>\n",
       "      <td>1</td>\n",
       "      <td>90</td>\n",
       "      <td>46</td>\n",
       "      <td>54</td>\n",
       "      <td>-1</td>\n",
       "      <td>8472.0</td>\n",
       "      <td>7</td>\n",
       "      <td>8650.0</td>\n",
       "      <td>17</td>\n",
       "    </tr>\n",
       "  </tbody>\n",
       "</table>\n",
       "</div>"
      ],
      "text/plain": [
       "   match_id       date                    name     season     team_long_name  \\\n",
       "0      1729 2008-08-17  England Premier League  2008/2009  Manchester United   \n",
       "1      1730 2008-08-16  England Premier League  2008/2009            Arsenal   \n",
       "2      1731 2008-08-16  England Premier League  2008/2009         Sunderland   \n",
       "\n",
       "         team_long_name  home_team_api_id  away_team_api_id  home_team_goal  \\\n",
       "0      Newcastle United             10260             10261               1   \n",
       "1  West Bromwich Albion              9825              8659               1   \n",
       "2             Liverpool              8472              8650               0   \n",
       "\n",
       "   away_team_goal  elapsed  homepos  awaypos  goaldiff   team_x  shotcnt_x  \\\n",
       "0               1       90       55       45         0  10260.0         22   \n",
       "1               0       90       66       34         1   9825.0         26   \n",
       "2               1       90       46       54        -1   8472.0          7   \n",
       "\n",
       "    team_y  shotcnt_y  \n",
       "0  10261.0         11  \n",
       "1   8659.0          5  \n",
       "2   8650.0         17  "
      ]
     },
     "execution_count": 26,
     "metadata": {},
     "output_type": "execute_result"
    }
   ],
   "source": [
    "df_matches = df_matches.merge(shots_group, left_on=['match_id','home_team_api_id'], right_on=['match_id', 'team'])\n",
    "df_matches = df_matches.merge(shots_group, left_on=['match_id','away_team_api_id'], right_on=['match_id', 'team'])\n",
    "df_matches.head(3)"
   ]
  },
  {
   "cell_type": "markdown",
   "metadata": {},
   "source": [
    "> a few cleaning tasks left. Renaming and dropping some columns.  \n",
    "Then adding a new column with the \"shot difference\":"
   ]
  },
  {
   "cell_type": "code",
   "execution_count": 27,
   "metadata": {},
   "outputs": [
    {
     "data": {
      "text/html": [
       "<div>\n",
       "<style scoped>\n",
       "    .dataframe tbody tr th:only-of-type {\n",
       "        vertical-align: middle;\n",
       "    }\n",
       "\n",
       "    .dataframe tbody tr th {\n",
       "        vertical-align: top;\n",
       "    }\n",
       "\n",
       "    .dataframe thead th {\n",
       "        text-align: right;\n",
       "    }\n",
       "</style>\n",
       "<table border=\"1\" class=\"dataframe\">\n",
       "  <thead>\n",
       "    <tr style=\"text-align: right;\">\n",
       "      <th></th>\n",
       "      <th>match_id</th>\n",
       "      <th>date</th>\n",
       "      <th>name</th>\n",
       "      <th>season</th>\n",
       "      <th>team_long_name</th>\n",
       "      <th>team_long_name</th>\n",
       "      <th>home_team_api_id</th>\n",
       "      <th>away_team_api_id</th>\n",
       "      <th>home_team_goal</th>\n",
       "      <th>away_team_goal</th>\n",
       "      <th>elapsed</th>\n",
       "      <th>homepos</th>\n",
       "      <th>awaypos</th>\n",
       "      <th>goaldiff</th>\n",
       "      <th>home_team_shots</th>\n",
       "      <th>away_team_shots</th>\n",
       "      <th>shotdiff</th>\n",
       "    </tr>\n",
       "  </thead>\n",
       "  <tbody>\n",
       "    <tr>\n",
       "      <td>0</td>\n",
       "      <td>1729</td>\n",
       "      <td>2008-08-17</td>\n",
       "      <td>England Premier League</td>\n",
       "      <td>2008/2009</td>\n",
       "      <td>Manchester United</td>\n",
       "      <td>Newcastle United</td>\n",
       "      <td>10260</td>\n",
       "      <td>10261</td>\n",
       "      <td>1</td>\n",
       "      <td>1</td>\n",
       "      <td>90</td>\n",
       "      <td>55</td>\n",
       "      <td>45</td>\n",
       "      <td>0</td>\n",
       "      <td>22</td>\n",
       "      <td>11</td>\n",
       "      <td>11</td>\n",
       "    </tr>\n",
       "    <tr>\n",
       "      <td>1</td>\n",
       "      <td>1730</td>\n",
       "      <td>2008-08-16</td>\n",
       "      <td>England Premier League</td>\n",
       "      <td>2008/2009</td>\n",
       "      <td>Arsenal</td>\n",
       "      <td>West Bromwich Albion</td>\n",
       "      <td>9825</td>\n",
       "      <td>8659</td>\n",
       "      <td>1</td>\n",
       "      <td>0</td>\n",
       "      <td>90</td>\n",
       "      <td>66</td>\n",
       "      <td>34</td>\n",
       "      <td>1</td>\n",
       "      <td>26</td>\n",
       "      <td>5</td>\n",
       "      <td>21</td>\n",
       "    </tr>\n",
       "    <tr>\n",
       "      <td>2</td>\n",
       "      <td>1731</td>\n",
       "      <td>2008-08-16</td>\n",
       "      <td>England Premier League</td>\n",
       "      <td>2008/2009</td>\n",
       "      <td>Sunderland</td>\n",
       "      <td>Liverpool</td>\n",
       "      <td>8472</td>\n",
       "      <td>8650</td>\n",
       "      <td>0</td>\n",
       "      <td>1</td>\n",
       "      <td>90</td>\n",
       "      <td>46</td>\n",
       "      <td>54</td>\n",
       "      <td>-1</td>\n",
       "      <td>7</td>\n",
       "      <td>17</td>\n",
       "      <td>-10</td>\n",
       "    </tr>\n",
       "    <tr>\n",
       "      <td>3</td>\n",
       "      <td>1732</td>\n",
       "      <td>2008-08-16</td>\n",
       "      <td>England Premier League</td>\n",
       "      <td>2008/2009</td>\n",
       "      <td>West Ham United</td>\n",
       "      <td>Wigan Athletic</td>\n",
       "      <td>8654</td>\n",
       "      <td>8528</td>\n",
       "      <td>2</td>\n",
       "      <td>1</td>\n",
       "      <td>90</td>\n",
       "      <td>52</td>\n",
       "      <td>48</td>\n",
       "      <td>1</td>\n",
       "      <td>14</td>\n",
       "      <td>23</td>\n",
       "      <td>-9</td>\n",
       "    </tr>\n",
       "    <tr>\n",
       "      <td>4</td>\n",
       "      <td>1733</td>\n",
       "      <td>2008-08-17</td>\n",
       "      <td>England Premier League</td>\n",
       "      <td>2008/2009</td>\n",
       "      <td>Aston Villa</td>\n",
       "      <td>Manchester City</td>\n",
       "      <td>10252</td>\n",
       "      <td>8456</td>\n",
       "      <td>4</td>\n",
       "      <td>2</td>\n",
       "      <td>90</td>\n",
       "      <td>52</td>\n",
       "      <td>48</td>\n",
       "      <td>2</td>\n",
       "      <td>13</td>\n",
       "      <td>16</td>\n",
       "      <td>-3</td>\n",
       "    </tr>\n",
       "  </tbody>\n",
       "</table>\n",
       "</div>"
      ],
      "text/plain": [
       "   match_id       date                    name     season     team_long_name  \\\n",
       "0      1729 2008-08-17  England Premier League  2008/2009  Manchester United   \n",
       "1      1730 2008-08-16  England Premier League  2008/2009            Arsenal   \n",
       "2      1731 2008-08-16  England Premier League  2008/2009         Sunderland   \n",
       "3      1732 2008-08-16  England Premier League  2008/2009    West Ham United   \n",
       "4      1733 2008-08-17  England Premier League  2008/2009        Aston Villa   \n",
       "\n",
       "         team_long_name  home_team_api_id  away_team_api_id  home_team_goal  \\\n",
       "0      Newcastle United             10260             10261               1   \n",
       "1  West Bromwich Albion              9825              8659               1   \n",
       "2             Liverpool              8472              8650               0   \n",
       "3        Wigan Athletic              8654              8528               2   \n",
       "4       Manchester City             10252              8456               4   \n",
       "\n",
       "   away_team_goal  elapsed  homepos  awaypos  goaldiff  home_team_shots  \\\n",
       "0               1       90       55       45         0               22   \n",
       "1               0       90       66       34         1               26   \n",
       "2               1       90       46       54        -1                7   \n",
       "3               1       90       52       48         1               14   \n",
       "4               2       90       52       48         2               13   \n",
       "\n",
       "   away_team_shots  shotdiff  \n",
       "0               11        11  \n",
       "1                5        21  \n",
       "2               17       -10  \n",
       "3               23        -9  \n",
       "4               16        -3  "
      ]
     },
     "execution_count": 27,
     "metadata": {},
     "output_type": "execute_result"
    }
   ],
   "source": [
    "# rename new columns:\n",
    "df_matches.rename(columns={\"shotcnt_x\": \"home_team_shots\", \"shotcnt_y\": \"away_team_shots\"}, inplace=True)\n",
    "# drop redundant columns with team no.:\n",
    "df_matches.drop(['team_y','team_x'], axis=1, inplace=True)\n",
    "df_matches['shotdiff'] = df_matches['home_team_shots'] - df_matches['away_team_shots']\n",
    "df_matches.head()"
   ]
  },
  {
   "cell_type": "code",
   "execution_count": null,
   "metadata": {},
   "outputs": [],
   "source": []
  },
  {
   "cell_type": "markdown",
   "metadata": {},
   "source": [
    "<a id='eda'></a>\n",
    "## Exploratory Data Analysis\n",
    "\n",
    "> **Tip**: Now that you've trimmed and cleaned your data, you're ready to move on to exploration. Compute statistics and create visualizations with the goal of addressing the research questions that you posed in the Introduction section. It is recommended that you be systematic with your approach. Look at one variable at a time, and then follow it up by looking at relationships between variables.\n",
    "\n",
    "### Research Question 1: What is the correlation between ball possession and goal differences in a match?  \n",
    "Let's take a look at the correlation of the columns 'homepos', 'goaldiff' and 'shotdiff' of `df_matches`:"
   ]
  },
  {
   "cell_type": "code",
   "execution_count": 28,
   "metadata": {},
   "outputs": [
    {
     "data": {
      "text/html": [
       "<div>\n",
       "<style scoped>\n",
       "    .dataframe tbody tr th:only-of-type {\n",
       "        vertical-align: middle;\n",
       "    }\n",
       "\n",
       "    .dataframe tbody tr th {\n",
       "        vertical-align: top;\n",
       "    }\n",
       "\n",
       "    .dataframe thead th {\n",
       "        text-align: right;\n",
       "    }\n",
       "</style>\n",
       "<table border=\"1\" class=\"dataframe\">\n",
       "  <thead>\n",
       "    <tr style=\"text-align: right;\">\n",
       "      <th></th>\n",
       "      <th>homepos</th>\n",
       "      <th>goaldiff</th>\n",
       "      <th>shotdiff</th>\n",
       "    </tr>\n",
       "  </thead>\n",
       "  <tbody>\n",
       "    <tr>\n",
       "      <td>homepos</td>\n",
       "      <td>1.000000</td>\n",
       "      <td>0.235915</td>\n",
       "      <td>0.573724</td>\n",
       "    </tr>\n",
       "    <tr>\n",
       "      <td>goaldiff</td>\n",
       "      <td>0.235915</td>\n",
       "      <td>1.000000</td>\n",
       "      <td>0.339602</td>\n",
       "    </tr>\n",
       "    <tr>\n",
       "      <td>shotdiff</td>\n",
       "      <td>0.573724</td>\n",
       "      <td>0.339602</td>\n",
       "      <td>1.000000</td>\n",
       "    </tr>\n",
       "  </tbody>\n",
       "</table>\n",
       "</div>"
      ],
      "text/plain": [
       "           homepos  goaldiff  shotdiff\n",
       "homepos   1.000000  0.235915  0.573724\n",
       "goaldiff  0.235915  1.000000  0.339602\n",
       "shotdiff  0.573724  0.339602  1.000000"
      ]
     },
     "execution_count": 28,
     "metadata": {},
     "output_type": "execute_result"
    }
   ],
   "source": [
    "df_matches[['homepos', 'goaldiff', 'shotdiff']].corr()\n"
   ]
  },
  {
   "cell_type": "markdown",
   "metadata": {},
   "source": [
    "So, there's a quite significant positive correlation (~ 0.24) between the share of ball possession and the actual goal difference and an even  \n",
    "stronger one (~ 0.34) between possession time and the shot difference.  \n",
    "\n",
    "Let's visualize the scatter plots of these relations:"
   ]
  },
  {
   "cell_type": "code",
   "execution_count": 29,
   "metadata": {},
   "outputs": [
    {
     "data": {
      "text/plain": [
       "Text(0.5, 1.0, 'Possession - Shot difference')"
      ]
     },
     "execution_count": 29,
     "metadata": {},
     "output_type": "execute_result"
    },
    {
     "data": {
      "image/png": "[encoded data removed]",
      "text/plain": [
       "<Figure size 1152x576 with 2 Axes>"
      ]
     },
     "metadata": {},
     "output_type": "display_data"
    }
   ],
   "source": [
    "fig, ax = plt.subplots(1, 2, figsize=(16,8))\n",
    "ax[0].scatter(df_matches['homepos'], df_matches['goaldiff']) \n",
    "ax[0].set_xlabel('possession home team')\n",
    "ax[0].set_ylabel('goal difference\\n(home goals - away goals)')\n",
    "ax[1].scatter(df_matches['homepos'], df_matches['shotdiff'], color='C1')\n",
    "ax[1].set_xlabel('possession home team')\n",
    "ax[1].set_ylabel('shot difference\\n(home shots - away shots)')\n",
    "ax[0].set_title('Possession - Goal Difference')\n",
    "ax[1].set_title('Possession - Shot difference')"
   ]
  },
  {
   "cell_type": "code",
   "execution_count": null,
   "metadata": {},
   "outputs": [],
   "source": []
  },
  {
   "cell_type": "markdown",
   "metadata": {},
   "source": [
    "### Research Question 2  (Replace this header name!)"
   ]
  },
  {
   "cell_type": "code",
   "execution_count": 30,
   "metadata": {},
   "outputs": [
    {
     "ename": "NameError",
     "evalue": "name 'df_match' is not defined",
     "output_type": "error",
     "traceback": [
      "\u001b[1;31m---------------------------------------------------------------------------\u001b[0m",
      "\u001b[1;31mNameError\u001b[0m                                 Traceback (most recent call last)",
      "\u001b[1;32m<ipython-input-30-2a1c4a2f54c1>\u001b[0m in \u001b[0;36m<module>\u001b[1;34m\u001b[0m\n\u001b[1;32m----> 1\u001b[1;33m \u001b[0mdf_match_shots\u001b[0m \u001b[1;33m=\u001b[0m \u001b[0mdf_match\u001b[0m\u001b[1;33m.\u001b[0m\u001b[0mmerge\u001b[0m\u001b[1;33m(\u001b[0m\u001b[0mdf_shots\u001b[0m\u001b[1;33m,\u001b[0m \u001b[0mon\u001b[0m\u001b[1;33m=\u001b[0m\u001b[1;34m'match_id'\u001b[0m\u001b[1;33m)\u001b[0m\u001b[1;33m\u001b[0m\u001b[1;33m\u001b[0m\u001b[0m\n\u001b[0m\u001b[0;32m      2\u001b[0m \u001b[1;31m# possession, shoton, shotoff, goals not needed in df_match_shots:\u001b[0m\u001b[1;33m\u001b[0m\u001b[1;33m\u001b[0m\u001b[1;33m\u001b[0m\u001b[0m\n\u001b[0;32m      3\u001b[0m \u001b[0mdf_match_shots\u001b[0m\u001b[1;33m.\u001b[0m\u001b[0mdrop\u001b[0m\u001b[1;33m(\u001b[0m\u001b[1;33m[\u001b[0m\u001b[1;34m'possession'\u001b[0m\u001b[1;33m,\u001b[0m \u001b[1;34m'shoton'\u001b[0m\u001b[1;33m,\u001b[0m \u001b[1;34m'shotoff'\u001b[0m\u001b[1;33m,\u001b[0m \u001b[1;34m'goal'\u001b[0m\u001b[1;33m]\u001b[0m\u001b[1;33m,\u001b[0m \u001b[0maxis\u001b[0m\u001b[1;33m=\u001b[0m\u001b[1;36m1\u001b[0m\u001b[1;33m,\u001b[0m \u001b[0minplace\u001b[0m\u001b[1;33m=\u001b[0m\u001b[1;32mTrue\u001b[0m\u001b[1;33m)\u001b[0m\u001b[1;33m\u001b[0m\u001b[1;33m\u001b[0m\u001b[0m\n\u001b[0;32m      4\u001b[0m \u001b[0mdf_match_shots\u001b[0m\u001b[1;33m[\u001b[0m\u001b[1;33m(\u001b[0m\u001b[0mdf_match_shots\u001b[0m\u001b[1;33m[\u001b[0m\u001b[1;34m'type'\u001b[0m\u001b[1;33m]\u001b[0m \u001b[1;33m==\u001b[0m \u001b[1;34m'goal'\u001b[0m\u001b[1;33m)\u001b[0m \u001b[1;33m&\u001b[0m \u001b[1;33m(\u001b[0m\u001b[0mdf_match_shots\u001b[0m\u001b[1;33m[\u001b[0m\u001b[1;34m'subtype'\u001b[0m\u001b[1;33m]\u001b[0m\u001b[1;33m.\u001b[0m\u001b[0misin\u001b[0m\u001b[1;33m(\u001b[0m\u001b[1;33m[\u001b[0m\u001b[1;34m'saved'\u001b[0m\u001b[1;33m,\u001b[0m \u001b[1;34m'missed'\u001b[0m\u001b[1;33m,\u001b[0m \u001b[1;34m'crossbar'\u001b[0m\u001b[1;33m,\u001b[0m \u001b[1;34m'post'\u001b[0m\u001b[1;33m,\u001b[0m\u001b[1;34m'saved_back_into_play'\u001b[0m\u001b[1;33m,\u001b[0m \u001b[1;34m'saved'\u001b[0m\u001b[1;33m]\u001b[0m\u001b[1;33m)\u001b[0m\u001b[1;33m)\u001b[0m\u001b[1;33m]\u001b[0m\u001b[1;33m\u001b[0m\u001b[1;33m\u001b[0m\u001b[0m\n\u001b[0;32m      5\u001b[0m \u001b[1;31m# there are some subtypes of type goal which actually aren't goals:\u001b[0m\u001b[1;33m\u001b[0m\u001b[1;33m\u001b[0m\u001b[1;33m\u001b[0m\u001b[0m\n",
      "\u001b[1;31mNameError\u001b[0m: name 'df_match' is not defined"
     ]
    }
   ],
   "source": [
    "df_match_shots = df_match.merge(df_shots, on='match_id')\n",
    "# possession, shoton, shotoff, goals not needed in df_match_shots:\n",
    "df_match_shots.drop(['possession', 'shoton', 'shotoff', 'goal'], axis=1, inplace=True)\n",
    "df_match_shots[(df_match_shots['type'] == 'goal') & (df_match_shots['subtype'].isin(['saved', 'missed', 'crossbar', 'post','saved_back_into_play', 'saved']))]\n",
    "# there are some subtypes of type goal which actually aren't goals:\n",
    "no_goals_list = ['saved', 'missed', 'crossbar', 'post','saved_back_into_play', 'saved']\n",
    "#df_match_shots[(df_match_shots['type'] == 'goal')]['subtype'].value_counts()\n",
    "#create new column goalQ - True if shot was a goal, False if not\n",
    "df_match_shots['goalQ'] = (df_match_shots['type'] == 'goal') & (~df_match_shots['subtype'].isin(no_goals_list))\n",
    "df_player_shots = df_match_shots.groupby(['player', 'goalQ'])['shotcnt'].sum().reset_index()\n",
    "df_player_shots\n",
    "df_player_plus = None\n",
    "df_player_plus = df_player.merge(df_player_shots[df_player_shots['goalQ']==True], left_on='player_api_id', right_on='player')\n",
    "df_player_plus = df_player_plus.merge(df_player_shots[df_player_shots['goalQ']==False], left_on='player_api_id', right_on='player')\n",
    "df_player_plus.drop(['player_x', 'goalQ_x', 'player_y', 'goalQ_y'], axis=1, inplace=True)\n",
    "df_player_plus.rename(columns={\"shotcnt_x\":\"goals\", \"shotcnt_y\":\"shots_missed\"}, inplace=True)\n",
    "df_player_plus['conversion rate'] = df_player_plus['goals'] / (df_player_plus['goals'] + df_player_plus['shots_missed'])\n",
    "df_player_plus.sort_values(by='conversion rate', ascending=False)\n",
    "df_player_plus[df_player_plus['goals']>50].sort_values(by='conversion rate', ascending=False)\n",
    "\n"
   ]
  },
  {
   "cell_type": "markdown",
   "metadata": {},
   "source": [
    "### Research Question 3"
   ]
  },
  {
   "cell_type": "code",
   "execution_count": 95,
   "metadata": {},
   "outputs": [
    {
     "data": {
      "text/plain": [
       "2.7323190300725066"
      ]
     },
     "execution_count": 95,
     "metadata": {},
     "output_type": "execute_result"
    }
   ],
   "source": [
    "probs = (df_matches['home_team_goal'] + df_matches['away_team_goal']).value_counts().sort_index()/df_matches.shape[0]\n",
    "mean_goals = (df_matches['home_team_goal'] + df_matches['away_team_goal']).mean()\n",
    "mean_goals"
   ]
  },
  {
   "cell_type": "code",
   "execution_count": 115,
   "metadata": {},
   "outputs": [
    {
     "data": {
      "text/plain": [
       "<matplotlib.legend.Legend at 0x1b331970108>"
      ]
     },
     "execution_count": 115,
     "metadata": {},
     "output_type": "execute_result"
    },
    {
     "data": {
      "image/png": "[encoded data removed]",
      "text/plain": [
       "<Figure size 720x360 with 1 Axes>"
      ]
     },
     "metadata": {},
     "output_type": "display_data"
    }
   ],
   "source": [
    "fig, ax = plt.subplots(1, 1, figsize=(10,5))\n",
    "_ = ax.vlines(probs.index, probs.values, colors=\"C5\", ymax=0, label=\"probability goals per game\")\n",
    "#_ = ax.hist(df_matches['away_team_goal'], bins='auto',  density=False)\n",
    "ax.plot(range(0,12), poisson.pmf(range(0,12), 2.73), label=\"Poisson Distribution\")\n",
    "ax.legend()\n",
    "#sns.set()\n",
    "#ax = sns.(df_matches['home_team_goal'])"
   ]
  },
  {
   "cell_type": "markdown",
   "metadata": {},
   "source": [
    "<a id='conclusions'></a>\n",
    "## Conclusions\n",
    "\n",
    "> **Tip**: Finally, summarize your findings and the results that have been performed. Make sure that you are clear with regards to the limitations of your exploration. If you haven't done any statistical tests, do not imply any statistical conclusions. And make sure you avoid implying causation from correlation!\n",
    "\n",
    "> **Tip**: Once you are satisfied with your work, you should save a copy of the report in HTML or PDF form via the **File** > **Download as** submenu. Before exporting your report, check over it to make sure that the flow of the report is complete. You should probably remove all of the \"Tip\" quotes like this one so that the presentation is as tidy as possible. Congratulations!"
   ]
  },
  {
   "cell_type": "code",
   "execution_count": null,
   "metadata": {
    "collapsed": true,
    "jupyter": {
     "outputs_hidden": true
    }
   },
   "outputs": [],
   "source": []
  },
  {
   "cell_type": "code",
   "execution_count": null,
   "metadata": {},
   "outputs": [],
   "source": []
  },
  {
   "cell_type": "code",
   "execution_count": null,
   "metadata": {},
   "outputs": [],
   "source": []
  }
 ],
 "metadata": {
  "kernelspec": {
   "display_name": "Python 3",
   "language": "python",
   "name": "python3"
  },
  "language_info": {
   "codemirror_mode": {
    "name": "ipython",
    "version": 3
   },
   "file_extension": ".py",
   "mimetype": "text/x-python",
   "name": "python",
   "nbconvert_exporter": "python",
   "pygments_lexer": "ipython3",
   "version": "3.7.4"
  }
 },
 "nbformat": 4,
 "nbformat_minor": 4
}
