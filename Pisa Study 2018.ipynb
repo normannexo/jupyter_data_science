{
 "cells": [
  {
   "cell_type": "markdown",
   "metadata": {},
   "source": [
    "# Pisa Study Project"
   ]
  },
  {
   "cell_type": "code",
   "execution_count": 2,
   "metadata": {},
   "outputs": [],
   "source": [
    "import pandas as pd\n",
    "import numpy as np\n",
    "import matplotlib.pyplot as plt\n"
   ]
  },
  {
   "cell_type": "code",
   "execution_count": 4,
   "metadata": {},
   "outputs": [],
   "source": [
    "df_pisa = pd.read_csv(\"./data/DP_LIVE_03122019214306791.csv\")"
   ]
  },
  {
   "cell_type": "code",
   "execution_count": 5,
   "metadata": {},
   "outputs": [
    {
     "data": {
      "text/html": [
       "<div>\n",
       "<style scoped>\n",
       "    .dataframe tbody tr th:only-of-type {\n",
       "        vertical-align: middle;\n",
       "    }\n",
       "\n",
       "    .dataframe tbody tr th {\n",
       "        vertical-align: top;\n",
       "    }\n",
       "\n",
       "    .dataframe thead th {\n",
       "        text-align: right;\n",
       "    }\n",
       "</style>\n",
       "<table border=\"1\" class=\"dataframe\">\n",
       "  <thead>\n",
       "    <tr style=\"text-align: right;\">\n",
       "      <th></th>\n",
       "      <th>LOCATION</th>\n",
       "      <th>INDICATOR</th>\n",
       "      <th>SUBJECT</th>\n",
       "      <th>MEASURE</th>\n",
       "      <th>FREQUENCY</th>\n",
       "      <th>TIME</th>\n",
       "      <th>Value</th>\n",
       "      <th>Flag Codes</th>\n",
       "    </tr>\n",
       "  </thead>\n",
       "  <tbody>\n",
       "    <tr>\n",
       "      <td>0</td>\n",
       "      <td>AUS</td>\n",
       "      <td>PISAMATH</td>\n",
       "      <td>BOY</td>\n",
       "      <td>MEANSCORE</td>\n",
       "      <td>A</td>\n",
       "      <td>2003</td>\n",
       "      <td>527.000</td>\n",
       "      <td>NaN</td>\n",
       "    </tr>\n",
       "    <tr>\n",
       "      <td>1</td>\n",
       "      <td>AUS</td>\n",
       "      <td>PISAMATH</td>\n",
       "      <td>BOY</td>\n",
       "      <td>MEANSCORE</td>\n",
       "      <td>A</td>\n",
       "      <td>2006</td>\n",
       "      <td>527.000</td>\n",
       "      <td>NaN</td>\n",
       "    </tr>\n",
       "    <tr>\n",
       "      <td>2</td>\n",
       "      <td>AUS</td>\n",
       "      <td>PISAMATH</td>\n",
       "      <td>BOY</td>\n",
       "      <td>MEANSCORE</td>\n",
       "      <td>A</td>\n",
       "      <td>2009</td>\n",
       "      <td>519.000</td>\n",
       "      <td>NaN</td>\n",
       "    </tr>\n",
       "    <tr>\n",
       "      <td>3</td>\n",
       "      <td>AUS</td>\n",
       "      <td>PISAMATH</td>\n",
       "      <td>BOY</td>\n",
       "      <td>MEANSCORE</td>\n",
       "      <td>A</td>\n",
       "      <td>2012</td>\n",
       "      <td>510.115</td>\n",
       "      <td>NaN</td>\n",
       "    </tr>\n",
       "    <tr>\n",
       "      <td>4</td>\n",
       "      <td>AUS</td>\n",
       "      <td>PISAMATH</td>\n",
       "      <td>BOY</td>\n",
       "      <td>MEANSCORE</td>\n",
       "      <td>A</td>\n",
       "      <td>2015</td>\n",
       "      <td>497.000</td>\n",
       "      <td>NaN</td>\n",
       "    </tr>\n",
       "  </tbody>\n",
       "</table>\n",
       "</div>"
      ],
      "text/plain": [
       "  LOCATION INDICATOR SUBJECT    MEASURE FREQUENCY  TIME    Value  Flag Codes\n",
       "0      AUS  PISAMATH     BOY  MEANSCORE         A  2003  527.000         NaN\n",
       "1      AUS  PISAMATH     BOY  MEANSCORE         A  2006  527.000         NaN\n",
       "2      AUS  PISAMATH     BOY  MEANSCORE         A  2009  519.000         NaN\n",
       "3      AUS  PISAMATH     BOY  MEANSCORE         A  2012  510.115         NaN\n",
       "4      AUS  PISAMATH     BOY  MEANSCORE         A  2015  497.000         NaN"
      ]
     },
     "execution_count": 5,
     "metadata": {},
     "output_type": "execute_result"
    }
   ],
   "source": [
    "df_pisa.head()"
   ]
  },
  {
   "cell_type": "code",
   "execution_count": null,
   "metadata": {},
   "outputs": [],
   "source": []
  }
 ],
 "metadata": {
  "kernelspec": {
   "display_name": "Python 3",
   "language": "python",
   "name": "python3"
  },
  "language_info": {
   "codemirror_mode": {
    "name": "ipython",
    "version": 3
   },
   "file_extension": ".py",
   "mimetype": "text/x-python",
   "name": "python",
   "nbconvert_exporter": "python",
   "pygments_lexer": "ipython3",
   "version": "3.7.4"
  }
 },
 "nbformat": 4,
 "nbformat_minor": 4
}
